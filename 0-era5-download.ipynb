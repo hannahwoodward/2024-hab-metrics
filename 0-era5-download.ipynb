{
 "cells": [
  {
   "cell_type": "markdown",
   "id": "de7175a5-35b2-4643-87e7-47912284ce07",
   "metadata": {},
   "source": [
    "# 1. ERA5 data download\n",
    "\n",
    "Usage: https://github.com/ecmwf/cdsapi"
   ]
  },
  {
   "cell_type": "markdown",
   "id": "c4df1eb2-f7f3-4fb8-8b82-e6dfac9bbc31",
   "metadata": {},
   "source": [
    "## Imports + constants"
   ]
  },
  {
   "cell_type": "code",
   "execution_count": null,
   "id": "dd7196b4-d917-4fdc-ad0a-af150fc358db",
   "metadata": {},
   "outputs": [],
   "source": [
    "!pip install --no-cache --quiet cdsapi "
   ]
  },
  {
   "cell_type": "code",
   "execution_count": null,
   "id": "55c5d659-fc7e-45db-b1c5-54959692d2bc",
   "metadata": {},
   "outputs": [],
   "source": [
    "import cdsapi"
   ]
  },
  {
   "cell_type": "markdown",
   "id": "2fc2cc55-47f9-4dba-b501-f33bb688795c",
   "metadata": {},
   "source": [
    "## Download"
   ]
  },
  {
   "cell_type": "code",
   "execution_count": null,
   "id": "986f91a5-a7b1-4883-a3b0-26eba2ea10a6",
   "metadata": {},
   "outputs": [],
   "source": [
    "cds_base_request = {\n",
    "    'product_type': [\n",
    "        'monthly_averaged_reanalysis'\n",
    "    ],\n",
    "    'year': [\n",
    "        '2003', '2004', '2005',\n",
    "        '2006', '2007', '2008',\n",
    "        '2009', '2010', '2011',\n",
    "        '2012', '2013', '2014',\n",
    "        '2015', '2016', '2017',\n",
    "        '2018'\n",
    "    ],\n",
    "    'month': [\n",
    "        '01', '02', '03',\n",
    "        '04', '05', '06',\n",
    "        '07', '08', '09',\n",
    "        '10', '11', '12'\n",
    "    ],\n",
    "    'time': [\n",
    "        '00:00'\n",
    "    ],\n",
    "    'data_format': 'netcdf',\n",
    "    'download_format': 'unarchived'\n",
    "}\n",
    "\n",
    "cds_request_configs = [\n",
    "    {\n",
    "        'dataset': 'reanalysis-era5-single-levels-monthly-means',\n",
    "        'request': {\n",
    "            'variable': [\n",
    "                '2m_temperature',\n",
    "                'total_precipitation',\n",
    "                'sea_ice_cover',\n",
    "                'evaporation',\n",
    "                'potential_evaporation'\n",
    "            ]\n",
    "        },\n",
    "        'target': 'data/era5_surface_2003_2018.nc'\n",
    "    }\n",
    "]\n",
    "\n",
    "client = cdsapi.Client()\n",
    "\n",
    "for item in cds_request_configs:\n",
    "    client.retrieve(\n",
    "        item['dataset'],\n",
    "        { \n",
    "            **cds_base_request,\n",
    "            **item['request']\n",
    "        },\n",
    "        item['target']\n",
    "    ).download()"
   ]
  }
 ],
 "metadata": {
  "kernelspec": {
   "display_name": "Python 3 (ipykernel)",
   "language": "python",
   "name": "python3"
  },
  "language_info": {
   "codemirror_mode": {
    "name": "ipython",
    "version": 3
   },
   "file_extension": ".py",
   "mimetype": "text/x-python",
   "name": "python",
   "nbconvert_exporter": "python",
   "pygments_lexer": "ipython3",
   "version": "3.10.11"
  }
 },
 "nbformat": 4,
 "nbformat_minor": 5
}
