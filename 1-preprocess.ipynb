{
 "cells": [
  {
   "cell_type": "markdown",
   "id": "d0bc52ff-8bee-4293-827d-c5dfb7da8ce0",
   "metadata": {},
   "source": [
    "# 1. Data preprocessing\n",
    "\n",
    "Before running this notebook, ensure all data have been downloaded from their respectives sources at a monthly timestep with at least 1x1° resolution across 2003-2018, and updated the local paths accordingly in `CONSTANTS`:\n",
    "\n",
    "- ERA5:\n",
    "  - Variables: `t2m`, `tp`, `e`, `pev`, `sic`\n",
    "  - Source: https://cds.climate.copernicus.eu/cdsapp#!/dataset/reanalysis-era5-single-levels-monthly-means\n",
    "- OC-CCI\n",
    "  - Variables: `chlor_a`\n",
    "  - Source: https://www.oceancolour.org/thredds/ncss/CCI_ALL-v6.0-MONTHLY?var=chlor_a&disableLLSubset=on&disableProjSubset=on&horizStride=1&time_start=2003-01-01T00%3A00%3A00Z&time_end=2019-01-01T00%3A00%3A00Z&timeStride=1&addLatLon=true&accept=netcdf\n",
    "  - Website: https://www.oceancolour.org/browser/index.php?product=chlor_a&page=0&period=monthly&version=6&limit=24&from=2003-01-01&to=2018-12-31\n",
    "- HadISST SIC:\n",
    "  - Variables: `sic` \n",
    "  - Source: https://www.metoffice.gov.uk/hadobs/hadisst/data/HadISST_ice.nc.gz\n",
    "  - Website: https://www.metoffice.gov.uk/hadobs/hadisst/data/download.html\n",
    "- MODIS Terra NDVI:\n",
    "  - Variables: `CMG_0_05_Deg_Monthly_NDVI`\n",
    "  - Source: https://e4ftl01.cr.usgs.gov/MOLT/MOD13C2.061/"
   ]
  },
  {
   "cell_type": "markdown",
   "id": "fc9ef788-729a-4ca9-b9a3-663c359a3e61",
   "metadata": {},
   "source": [
    "## Imports + constants"
   ]
  },
  {
   "cell_type": "code",
   "execution_count": 1,
   "id": "f120ffab-1f0a-4b1b-ac79-ee85ca7ea196",
   "metadata": {},
   "outputs": [],
   "source": [
    "!pip install --no-cache --quiet regionmask "
   ]
  },
  {
   "cell_type": "code",
   "execution_count": 2,
   "id": "0fd22952-7dbc-4ddd-9f12-6a13f7da1265",
   "metadata": {},
   "outputs": [],
   "source": [
    "from dask.diagnostics import ProgressBar\n",
    "from datetime import timedelta\n",
    "\n",
    "import cftime\n",
    "import dask\n",
    "import numpy as np\n",
    "import xarray\n",
    "\n",
    "import libs.utils"
   ]
  },
  {
   "cell_type": "code",
   "execution_count": 3,
   "id": "35246ab1-2ee0-4e74-b24e-1571e4af677f",
   "metadata": {},
   "outputs": [],
   "source": [
    "CONSTANTS = {\n",
    "    'path_data_era5': 'data/era5_2003_2018.nc',\n",
    "    'path_data_chla': 'data/oc-cci-chla/ESACCI-OC-L3S-CHLOR_A-MERGED-1M_MONTHLY_4km_GEO_PML_OCx-*-fv6.0.nc',\n",
    "    'path_data_sic': 'data/HadISST_ice.nc',\n",
    "    'path_data_ndvi': 'data/ndvi/MOD13C2.*.nc',\n",
    "    'year_start': 2003,\n",
    "    'year_end': 2018,\n",
    "}"
   ]
  },
  {
   "cell_type": "markdown",
   "id": "9c9d7481-aa19-4378-a89e-f4b49369de4d",
   "metadata": {},
   "source": [
    "## Functions"
   ]
  },
  {
   "cell_type": "code",
   "execution_count": 4,
   "id": "121c34cc-8b8f-4bce-a91e-e0a0bcfc9024",
   "metadata": {},
   "outputs": [],
   "source": [
    "def assign_coords_time(data):\n",
    "    # Extract time from filename\n",
    "    yyyydd = data.encoding['source'].split('/').pop()\n",
    "    yyyy = int(yyyydd[9:13])\n",
    "    dd = int(yyyydd[13:16])\n",
    "\n",
    "    # Convert to time\n",
    "    time = cftime.datetime(yyyy, 1, 1, calendar='standard') + timedelta(days=dd)\n",
    "\n",
    "    data = data.assign_coords({ 'time': time })\n",
    "\n",
    "    return data\n",
    "\n",
    "\n",
    "def assign_coords_latlon(\n",
    "    data,\n",
    "    dim_lat='lat',\n",
    "    dim_lon='lon'\n",
    "):\n",
    "    data = data\\\n",
    "        .assign_coords({\n",
    "            dim_lat: -90.0 * (\n",
    "                (data[dim_lat].values - (max(data[dim_lat].values) / 2.0))\n",
    "                / (max(data[dim_lat].values) / 2.0)\n",
    "            ),\n",
    "            dim_lon: ((360.0 * data[dim_lon].values / max(data[dim_lon].values)) - 180.0)\n",
    "        })\\\n",
    "        .rename({\n",
    "            dim_lat: 'lat',\n",
    "            dim_lon: 'lon'\n",
    "        })\\\n",
    "        .sortby('lat', 'lon')\n",
    "\n",
    "    return data\n",
    "\n",
    "\n",
    "def calc_slice_monthly_climatology(\n",
    "    data,\n",
    "    year_start=CONSTANTS['year_start'],\n",
    "    year_end=CONSTANTS['year_end']\n",
    "):\n",
    "    return data\\\n",
    "        .sel(time=slice(f'{year_start}-01-01', f'{year_end}-12-31'))\\\n",
    "        .groupby('time.month')\\\n",
    "        .mean('time')\\\n",
    "        .chunk(dict(month=-1))\\\n",
    "        .compute()"
   ]
  },
  {
   "cell_type": "markdown",
   "id": "c84632b7-fbe1-43cf-8cf6-c90879034b77",
   "metadata": {},
   "source": [
    "## Main"
   ]
  },
  {
   "cell_type": "markdown",
   "id": "0a503307-e7ea-4e5f-8ebb-1a09a7f5fde4",
   "metadata": {},
   "source": [
    "### Climatological ERA5"
   ]
  },
  {
   "cell_type": "code",
   "execution_count": 5,
   "id": "04808478-4caf-4ac7-a358-348530855f4f",
   "metadata": {},
   "outputs": [],
   "source": [
    "with dask.config.set(**{'array.slicing.split_large_chunks': True}):\n",
    "    era5 = xarray.open_mfdataset(\n",
    "        engine='netcdf4',\n",
    "        paths=CONSTANTS['path_data_era5'],\n",
    "        use_cftime=True\n",
    "    )\n",
    "\n",
    "# Standardise naming\n",
    "era5 = era5.rename({\n",
    "    'latitude': 'lat',\n",
    "    'longitude': 'lon',\n",
    "    't2m': 'tas',\n",
    "    'tp': 'pr',\n",
    "    'e': 'evspsbl'\n",
    "})\n",
    "\n",
    "# Standardise units\n",
    "era5['pr'] = era5.pr * 1000.0 / 86400.0\n",
    "era5['evspsbl'] = era5.evspsbl * -1000.0 / 86400.0\n",
    "era5['prnet'] = era5.pr - era5.evspsbl\n",
    "era5['pet'] = libs.utils.mask_to_land(era5.pev * -1000.0 / 86400.0)\n",
    "\n",
    "# Select time period and calculate monthly climatology\n",
    "era5_monthly = calc_slice_monthly_climatology(era5)\n",
    "\n",
    "# Calculate aridity index `ai`, biotemperature `tbio` and net precipitation `prnet`\n",
    "era5_monthly['ai'] = era5_monthly.pr / (era5_monthly.pr + era5_monthly.pet)\n",
    "era5_monthly['tbio'] = xarray.where(\n",
    "    era5_monthly.tas > 303.15,\n",
    "    303.15,\n",
    "    xarray.where(\n",
    "        era5_monthly.tas < 273.15,\n",
    "        273.15,\n",
    "        era5_monthly.tas\n",
    "    )\n",
    ")\n",
    "era5_monthly['prnet'] = era5_monthly.pr - era5_monthly.evspsbl"
   ]
  },
  {
   "cell_type": "markdown",
   "id": "2004557b-a3a2-495f-bec2-7408b143641f",
   "metadata": {},
   "source": [
    "### MARINE: Chlorophyll-a (Chl-a) + SIC"
   ]
  },
  {
   "cell_type": "code",
   "execution_count": 6,
   "id": "2748d40b-3e66-4548-bae1-0df79af38334",
   "metadata": {},
   "outputs": [],
   "source": [
    "# --- Chlorophyll-a (Chl-a) data ---\n",
    "chla_ds = xarray.open_mfdataset(\n",
    "    paths=CONSTANTS['path_data_chla'],\n",
    "    combine='by_coords'\n",
    ")\n",
    "\n",
    "chla_monthly = libs.utils.mask_to_ocean(\n",
    "    calc_slice_monthly_climatology(chla_ds.chlor_a)\n",
    ")"
   ]
  },
  {
   "cell_type": "code",
   "execution_count": 7,
   "id": "48d2e5b3-9dbc-4eaf-a5a1-18542f5fa673",
   "metadata": {},
   "outputs": [],
   "source": [
    "# --- Sea ice concentration (SIC) data ---\n",
    "sic_ds = xarray.open_mfdataset(\n",
    "    paths=CONSTANTS['path_data_sic'],\n",
    "    combine='by_coords'\n",
    ")\n",
    "\n",
    "sic_ds = sic_ds.rename({\n",
    "    'latitude': 'lat',\n",
    "    'longitude': 'lon'\n",
    "})\n",
    "\n",
    "sic_monthly = libs.utils.mask_to_ocean(\n",
    "    calc_slice_monthly_climatology(sic_ds.sic)\n",
    ")"
   ]
  },
  {
   "cell_type": "markdown",
   "id": "5de11fd3-f2af-4d41-9e2a-7ceabe9393ca",
   "metadata": {},
   "source": [
    "### TERRESTRIAL: NDVI data"
   ]
  },
  {
   "cell_type": "code",
   "execution_count": 8,
   "id": "2264d2b1-1340-457f-9b05-d016fce9c852",
   "metadata": {},
   "outputs": [],
   "source": [
    "ndvi_evi = xarray.open_mfdataset(\n",
    "    paths=CONSTANTS['path_data_ndvi'],\n",
    "    combine='nested',\n",
    "    concat_dim='time',\n",
    "    engine='netcdf4',\n",
    "    preprocess=lambda data: assign_coords_time(\n",
    "        assign_coords_latlon(\n",
    "            data,\n",
    "            dim_lat='YDim_MOD_Grid_monthly_CMG_VI',\n",
    "            dim_lon='XDim_MOD_Grid_monthly_CMG_VI'\n",
    "        )\n",
    "    )\n",
    ")\n",
    "\n",
    "with dask.config.set(**{ 'array.slicing.split_large_chunks': True }):\n",
    "    ndvi_monthly = calc_slice_monthly_climatology(\n",
    "        ndvi_evi.CMG_0_05_Deg_Monthly_NDVI / 1e8\n",
    "    )\n",
    "\n",
    "    # Prevent error of overlapping -180/180 longitudes\n",
    "    ndvi_monthly = libs.utils.mask_to_land(\n",
    "        ndvi_monthly.where(ndvi_monthly.lon < 180, drop=True)\n",
    "    )"
   ]
  },
  {
   "cell_type": "markdown",
   "id": "db6ae559-9acc-4fb1-890c-cf419631d1d2",
   "metadata": {},
   "source": [
    "### Regridding"
   ]
  },
  {
   "cell_type": "code",
   "execution_count": 9,
   "id": "93297ca8-a0b8-447c-959f-98fba3fe4701",
   "metadata": {},
   "outputs": [
    {
     "name": "stderr",
     "output_type": "stream",
     "text": [
      "hwloc/linux: Ignoring PCI device with non-16bit domain.\n",
      "Pass --enable-32bits-pci-domain to configure to support such devices\n",
      "(warning: it would break the library ABI, don't enable unless really needed).\n"
     ]
    }
   ],
   "source": [
    "target_grid = sic_monthly\n",
    "\n",
    "era5_monthly_regrid = libs.utils.regrid_data(\n",
    "    era5_monthly,\n",
    "    target_grid,\n",
    "    method='bilinear',\n",
    "    regrid_kwargs={\n",
    "        'extrap_method': 'nearest_s2d',\n",
    "    }\n",
    ")\n",
    "\n",
    "chla_monthly_regrid = libs.utils.regrid_data(\n",
    "    chla_monthly,\n",
    "    target_grid,\n",
    "    method='bilinear',\n",
    "    regrid_kwargs={\n",
    "        'extrap_method': 'nearest_s2d',\n",
    "    }\n",
    ")\n",
    "\n",
    "ndvi_monthly_regrid = libs.utils.regrid_data(\n",
    "    ndvi_monthly,\n",
    "    target_grid,\n",
    "    method='bilinear',\n",
    "    regrid_kwargs={\n",
    "        'extrap_method': 'nearest_s2d',\n",
    "    }\n",
    ")"
   ]
  },
  {
   "cell_type": "markdown",
   "id": "2eb8cffc-3e05-4349-a56d-767ecc4c60f5",
   "metadata": {},
   "source": [
    "### Chla high latitude gap-filling/interpolation"
   ]
  },
  {
   "cell_type": "code",
   "execution_count": 10,
   "id": "f6084ceb-1092-4ca1-a4f7-098445b2d2b0",
   "metadata": {},
   "outputs": [],
   "source": [
    "# Interpolate chl-a twice to fill seasonal cycle of both hemispheres\n",
    "chla_monthly_interp = chla_monthly_regrid\\\n",
    "    .interpolate_na('month')\\\n",
    "    .roll(month=6)\\\n",
    "    .interpolate_na('month')\\\n",
    "    .roll(month=6)\\\n",
    "    .compute()\n",
    "\n",
    "# Weight interpolated values against sea ice concentration\n",
    "# with a minimum value of 0.01\n",
    "chla_monthly_interp2 = chla_monthly_interp\\\n",
    "    .where(\n",
    "        sic_monthly.isnull(),\n",
    "        np.fmax(chla_monthly_interp * (1.0 - sic_monthly), 0.01)\n",
    "    )\\\n",
    "    .compute()"
   ]
  },
  {
   "cell_type": "markdown",
   "id": "84dac64d-fec2-436a-ad3b-4b3e392a28c2",
   "metadata": {},
   "source": [
    "### Write preprocessed data"
   ]
  },
  {
   "cell_type": "code",
   "execution_count": 11,
   "id": "78f67578-39a0-48bd-9004-4dbce4526cc0",
   "metadata": {},
   "outputs": [
    {
     "name": "stdout",
     "output_type": "stream",
     "text": [
      "[########################################] | 100% Completed | 101.62 ms\n"
     ]
    }
   ],
   "source": [
    "data_obs = xarray.Dataset(\n",
    "    data_vars={\n",
    "        'chla': chla_monthly_interp2,\n",
    "        'ndvi': ndvi_monthly_regrid,\n",
    "        'sic': sic_monthly,\n",
    "    },\n",
    "    coords=chla_monthly_interp2.coords\n",
    ")\n",
    "\n",
    "write = data_obs.to_netcdf(\n",
    "    'data/obs_processed_2003_2018.nc',\n",
    "    compute=False,\n",
    "    engine='netcdf4',\n",
    "    unlimited_dims=['time']\n",
    ")\n",
    "\n",
    "with ProgressBar():\n",
    "    write.compute()"
   ]
  },
  {
   "cell_type": "code",
   "execution_count": 12,
   "id": "1df029b7-da85-48b1-8965-b238f2b6b169",
   "metadata": {},
   "outputs": [
    {
     "name": "stdout",
     "output_type": "stream",
     "text": [
      "[########################################] | 100% Completed | 101.54 ms\n"
     ]
    }
   ],
   "source": [
    "write = era5_monthly_regrid.to_netcdf(\n",
    "    'data/era5_processed_2003_2018.nc',\n",
    "    compute=False,\n",
    "    engine='netcdf4',\n",
    "    unlimited_dims=['time']\n",
    ")\n",
    "\n",
    "with ProgressBar():\n",
    "    write.compute()"
   ]
  },
  {
   "cell_type": "code",
   "execution_count": null,
   "id": "a9695a10-5f93-4181-ad32-31e219c59ef3",
   "metadata": {},
   "outputs": [],
   "source": []
  }
 ],
 "metadata": {
  "kernelspec": {
   "display_name": "Python 3 (ipykernel)",
   "language": "python",
   "name": "python3"
  },
  "language_info": {
   "codemirror_mode": {
    "name": "ipython",
    "version": 3
   },
   "file_extension": ".py",
   "mimetype": "text/x-python",
   "name": "python",
   "nbconvert_exporter": "python",
   "pygments_lexer": "ipython3",
   "version": "3.10.11"
  }
 },
 "nbformat": 4,
 "nbformat_minor": 5
}
